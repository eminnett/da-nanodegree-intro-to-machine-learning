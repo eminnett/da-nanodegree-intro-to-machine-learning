{
 "cells": [
  {
   "cell_type": "markdown",
   "metadata": {},
   "source": [
    "# Explore Enron Data"
   ]
  },
  {
   "cell_type": "markdown",
   "metadata": {},
   "source": [
    "Starter code for exploring the Enron dataset (emails + finances);\n",
    "loads up the dataset (pickled dict of dicts).\n",
    "\n",
    "The dataset has the form:\n",
    "enron_data[\"LASTNAME FIRSTNAME MIDDLEINITIAL\"] = { features_dict }\n",
    "\n",
    "{features_dict} is a dictionary of features associated with that person.\n",
    "You should explore features_dict as part of the mini-project,\n",
    "but here's an example to get you started:\n",
    "\n",
    "enron_data[\"SKILLING JEFFREY K\"][\"bonus\"] = 5600000"
   ]
  },
  {
   "cell_type": "code",
   "execution_count": 76,
   "metadata": {
    "collapsed": true
   },
   "outputs": [],
   "source": [
    "import pickle\n",
    "\n",
    "enron_data = pickle.load(open(\"../final_project/final_project_dataset.pkl\", \"r\"))"
   ]
  },
  {
   "cell_type": "markdown",
   "metadata": {},
   "source": [
    "#### How many data points (people) are in the dataset?"
   ]
  },
  {
   "cell_type": "code",
   "execution_count": 60,
   "metadata": {
    "collapsed": false
   },
   "outputs": [
    {
     "name": "stdout",
     "output_type": "stream",
     "text": [
      "There are 146 records in the data set.\n"
     ]
    }
   ],
   "source": [
    "print \"There are \" + str(len(enron_data)) + \" records in the data set.\""
   ]
  },
  {
   "cell_type": "markdown",
   "metadata": {},
   "source": [
    "#### For each person, how many features are available?"
   ]
  },
  {
   "cell_type": "code",
   "execution_count": 61,
   "metadata": {
    "collapsed": false
   },
   "outputs": [
    {
     "name": "stdout",
     "output_type": "stream",
     "text": [
      "There are 21 features for each record.\n"
     ]
    }
   ],
   "source": [
    "print \"There are \" + str(len(enron_data.itervalues().next())) + \" features for each record.\""
   ]
  },
  {
   "cell_type": "markdown",
   "metadata": {},
   "source": [
    "#### How many POIs are there in the E+F dataset?"
   ]
  },
  {
   "cell_type": "code",
   "execution_count": 83,
   "metadata": {
    "collapsed": false
   },
   "outputs": [
    {
     "name": "stdout",
     "output_type": "stream",
     "text": [
      "There are 18 people classified as a 'person of interest'.\n"
     ]
    }
   ],
   "source": [
    "pois = {p: enron_data[p] for p in enron_data if enron_data[p]['poi']}\n",
    "print \"There are \" + str(len(pois)) + \" people classified as a 'person of interest'.\""
   ]
  },
  {
   "cell_type": "markdown",
   "metadata": {},
   "source": [
    "#### How many POI’s were there total?"
   ]
  },
  {
   "cell_type": "markdown",
   "metadata": {},
   "source": [
    "There are 35 POIs in total. (../final_project/poi_names.txt)"
   ]
  },
  {
   "cell_type": "markdown",
   "metadata": {},
   "source": [
    "#### As you can see, we have many of the POIs in our E+F dataset, but not all of them. Why is that a potential problem?"
   ]
  },
  {
   "cell_type": "markdown",
   "metadata": {},
   "source": [
    "Since we only have a little over half the correct POI clasifications in our data set, we are faced with the following issue. If we choose to use POI as the target classification for a learning algorithm, it will be hard to determine whether the learned model is in fact correctly classifying an individual whose label is incorrect or whether the classification is a false positive. The same can be said for the inverse and potential indication a false negative as a true negative when the target label is incorrect."
   ]
  },
  {
   "cell_type": "markdown",
   "metadata": {},
   "source": [
    "#### What is the total value of the stock belonging to James Prentice?"
   ]
  },
  {
   "cell_type": "code",
   "execution_count": 63,
   "metadata": {
    "collapsed": false
   },
   "outputs": [
    {
     "name": "stdout",
     "output_type": "stream",
     "text": [
      "James Prentice has a total stock value of $1095040.\n"
     ]
    }
   ],
   "source": [
    "jp = enron_data['PRENTICE JAMES']\n",
    "print \"James Prentice has a total stock value of $\" + str(jp['total_stock_value']) + \".\""
   ]
  },
  {
   "cell_type": "markdown",
   "metadata": {},
   "source": [
    "#### How many email messages do we have from Wesley Colwell to persons of interest?"
   ]
  },
  {
   "cell_type": "code",
   "execution_count": 64,
   "metadata": {
    "collapsed": false
   },
   "outputs": [
    {
     "name": "stdout",
     "output_type": "stream",
     "text": [
      "Wesley Colwell sent 11 emails to people of interest.\n"
     ]
    }
   ],
   "source": [
    "wc = enron_data['COLWELL WESLEY']\n",
    "print \"Wesley Colwell sent \" + str(wc['from_this_person_to_poi']) + \" emails to people of interest.\""
   ]
  },
  {
   "cell_type": "markdown",
   "metadata": {},
   "source": [
    "#### What’s the value of stock options exercised by Jeffrey Skilling?"
   ]
  },
  {
   "cell_type": "code",
   "execution_count": 65,
   "metadata": {
    "collapsed": false
   },
   "outputs": [
    {
     "name": "stdout",
     "output_type": "stream",
     "text": [
      "Jeffrey Skilling exercised 19250000 of his stock options.\n"
     ]
    }
   ],
   "source": [
    "js = enron_data['SKILLING JEFFREY K']\n",
    "print \"Jeffrey Skilling exercised \" + str(js['exercised_stock_options']) + \" of his stock options.\""
   ]
  },
  {
   "cell_type": "markdown",
   "metadata": {},
   "source": [
    "#### Of these three individuals (Lay, Skilling and Fastow), who took home the most money (largest value of “total_payments” feature)? "
   ]
  },
  {
   "cell_type": "code",
   "execution_count": 67,
   "metadata": {
    "collapsed": false
   },
   "outputs": [
    {
     "name": "stdout",
     "output_type": "stream",
     "text": [
      "LAY KENNETH L received the largest payout.\n"
     ]
    }
   ],
   "source": [
    "leaders = {p: enron_data[p] for p in enron_data if p in ['SKILLING JEFFREY K', 'LAY KENNETH L', 'FASTOW ANDREW S']}\n",
    "leaders_total_payments = [leaders[p]['total_payments'] for p in leaders]\n",
    "leader_with_largest_payout = [p for p in leaders if leaders[p]['total_payments'] == max(leaders_total_payments)][0]\n",
    "print leader_with_largest_payout + \" received the largest payout.\""
   ]
  },
  {
   "cell_type": "markdown",
   "metadata": {},
   "source": [
    "#### How much money did that person get?"
   ]
  },
  {
   "cell_type": "code",
   "execution_count": 69,
   "metadata": {
    "collapsed": false
   },
   "outputs": [
    {
     "name": "stdout",
     "output_type": "stream",
     "text": [
      "LAY KENNETH L received $103559793 as his payout.\n"
     ]
    }
   ],
   "source": [
    "print leader_with_largest_payout + \" received $\" + str(leaders[leader_with_largest_payout]['total_payments']) + \" as his payout.\""
   ]
  },
  {
   "cell_type": "markdown",
   "metadata": {},
   "source": [
    "#### How many folks in this dataset have a quantified salary? What about a known email address?"
   ]
  },
  {
   "cell_type": "code",
   "execution_count": 77,
   "metadata": {
    "collapsed": false
   },
   "outputs": [
    {
     "name": "stdout",
     "output_type": "stream",
     "text": [
      "There are 95 people with quantified salaries.\n",
      "There are 111 people with quantified email addresses.\n"
     ]
    }
   ],
   "source": [
    "people_with_quantified_salary = [p for p in enron_data if enron_data[p]['salary'] != 'NaN']\n",
    "people_with_quantified_email  = [p for p in enron_data if enron_data[p]['email_address'] != 'NaN']\n",
    "\n",
    "print \"There are \" + str(len(people_with_quantified_salary)) + \" people with quantified salaries.\"\n",
    "print \"There are \" + str(len(people_with_quantified_email)) + \" people with quantified email addresses.\""
   ]
  },
  {
   "cell_type": "markdown",
   "metadata": {},
   "source": [
    "#### How many people in the E+F dataset (as it currently exists) have “NaN” for their total payments? What percentage of people in the dataset as a whole is this?"
   ]
  },
  {
   "cell_type": "code",
   "execution_count": 80,
   "metadata": {
    "collapsed": false
   },
   "outputs": [
    {
     "name": "stdout",
     "output_type": "stream",
     "text": [
      "There are 21 people without quantified total payments.\n",
      "This constitutes 14.3835616438% of the total records.\n"
     ]
    }
   ],
   "source": [
    "people_without_quantified_total_payments = [p for p in enron_data if enron_data[p]['total_payments'] == 'NaN']\n",
    "percent_of_people_without_quantified_total_payments = (len(people_without_quantified_total_payments) / float(len(enron_data))) * 100\n",
    "\n",
    "print \"There are \" + str(len(people_without_quantified_total_payments)) + \" people without quantified total payments.\" \n",
    "print \"This constitutes \"+ str(percent_of_people_without_quantified_total_payments) + \"% of the total records.\""
   ]
  },
  {
   "cell_type": "markdown",
   "metadata": {},
   "source": [
    "#### How many POIs in the E+F dataset have “NaN” for their total payments? What percentage of POI’s as a whole is this?"
   ]
  },
  {
   "cell_type": "code",
   "execution_count": 84,
   "metadata": {
    "collapsed": false
   },
   "outputs": [
    {
     "name": "stdout",
     "output_type": "stream",
     "text": [
      "There are 0 POIs without quantified total payments.\n",
      "This constitutes 0.0% of the total POIs.\n"
     ]
    }
   ],
   "source": [
    "pois_without_quantified_total_payments = [p for p in pois if pois[p]['total_payments'] == 'NaN']\n",
    "percent_of_pois_without_quantified_total_payments = (len(pois_without_quantified_total_payments) / float(len(pois))) * 100\n",
    "\n",
    "print \"There are \" + str(len(pois_without_quantified_total_payments)) + \" POIs without quantified total payments.\" \n",
    "print \"This constitutes \"+ str(percent_of_pois_without_quantified_total_payments) + \"% of the total POIs.\""
   ]
  },
  {
   "cell_type": "markdown",
   "metadata": {},
   "source": [
    "#### If you added in, say, 10 more data points which were all POI’s, and put “NaN” for the total payments for those folks, the numbers you just calculated would change."
   ]
  },
  {
   "cell_type": "markdown",
   "metadata": {},
   "source": [
    "####  What is the new number of people of the dataset? What is the new number of folks with “NaN” for total payments?"
   ]
  },
  {
   "cell_type": "code",
   "execution_count": 85,
   "metadata": {
    "collapsed": false
   },
   "outputs": [
    {
     "name": "stdout",
     "output_type": "stream",
     "text": [
      "There would now be 156 records in the data set.\n",
      "There would now be 31 people without quantified total payments.\n"
     ]
    }
   ],
   "source": [
    "print \"There would now be \" + str(len(enron_data) + 10) + \" records in the data set.\"\n",
    "print \"There would now be \" + str(len(people_without_quantified_total_payments) + 10) + \" people without quantified total payments.\""
   ]
  },
  {
   "cell_type": "markdown",
   "metadata": {},
   "source": [
    "#### What is the new number of POI’s in the dataset? What percentage of them have “NaN” for their total stock value?"
   ]
  },
  {
   "cell_type": "code",
   "execution_count": 87,
   "metadata": {
    "collapsed": false
   },
   "outputs": [
    {
     "name": "stdout",
     "output_type": "stream",
     "text": [
      "There are now 28 POIs in the data set.\n",
      "This constitutes 35.7142857143% of the new total POIs.\n"
     ]
    }
   ],
   "source": [
    "new_percent_of_pois_without_quantified_total_payments = (10 / float(len(pois) + 10)) * 100\n",
    "print \"There are now \" + str(len(pois) + 10) + \" POIs in the data set.\" \n",
    "print \"This constitutes \"+ str(new_percent_of_pois_without_quantified_total_payments) + \"% of the new total POIs.\""
   ]
  },
  {
   "cell_type": "code",
   "execution_count": null,
   "metadata": {
    "collapsed": true
   },
   "outputs": [],
   "source": []
  }
 ],
 "metadata": {
  "kernelspec": {
   "display_name": "Python 2",
   "language": "python",
   "name": "python2"
  },
  "language_info": {
   "codemirror_mode": {
    "name": "ipython",
    "version": 2
   },
   "file_extension": ".py",
   "mimetype": "text/x-python",
   "name": "python",
   "nbconvert_exporter": "python",
   "pygments_lexer": "ipython2",
   "version": "2.7.11"
  }
 },
 "nbformat": 4,
 "nbformat_minor": 0
}
