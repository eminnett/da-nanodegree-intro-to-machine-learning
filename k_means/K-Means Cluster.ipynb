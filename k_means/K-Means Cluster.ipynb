{
 "cells": [
  {
   "cell_type": "code",
   "execution_count": 31,
   "metadata": {
    "collapsed": true
   },
   "outputs": [],
   "source": [
    "import pickle\n",
    "import numpy\n",
    "import matplotlib.pyplot as plt\n",
    "import sys\n",
    "sys.path.append(\"../tools/\")\n",
    "from feature_format import featureFormat, targetFeatureSplit"
   ]
  },
  {
   "cell_type": "code",
   "execution_count": 32,
   "metadata": {
    "collapsed": true
   },
   "outputs": [],
   "source": [
    "def Draw(pred, features, poi, mark_poi=False, name=\"image.png\", f1_name=\"feature 1\", f2_name=\"feature 2\"):\n",
    "    \"\"\" some plotting code designed to help you visualize your clusters \"\"\"\n",
    "\n",
    "    ### plot each cluster with a different color--add more colors for\n",
    "    ### drawing more than five clusters\n",
    "    colors = [\"b\", \"c\", \"k\", \"m\", \"g\"]\n",
    "    for ii, pp in enumerate(pred):\n",
    "        plt.scatter(features[ii][0], features[ii][1], color = colors[pred[ii]])\n",
    "\n",
    "    ### if you like, place red stars over points that are POIs (just for funsies)\n",
    "    if mark_poi:\n",
    "        for ii, pp in enumerate(pred):\n",
    "            if poi[ii]:\n",
    "                plt.scatter(features[ii][0], features[ii][1], color=\"r\", marker=\"*\")\n",
    "    plt.xlabel(f1_name)\n",
    "    plt.ylabel(f2_name)\n",
    "    plt.savefig(name)\n",
    "    plt.show()\n"
   ]
  },
  {
   "cell_type": "code",
   "execution_count": 33,
   "metadata": {
    "collapsed": false
   },
   "outputs": [
    {
     "data": {
      "text/plain": [
       "{'bonus': 97343619,\n",
       " 'deferral_payments': 32083396,\n",
       " 'deferred_income': -27992891,\n",
       " 'director_fees': 1398517,\n",
       " 'email_address': 'NaN',\n",
       " 'exercised_stock_options': 311764000,\n",
       " 'expenses': 5235198,\n",
       " 'from_messages': 'NaN',\n",
       " 'from_poi_to_this_person': 'NaN',\n",
       " 'from_this_person_to_poi': 'NaN',\n",
       " 'loan_advances': 83925000,\n",
       " 'long_term_incentive': 48521928,\n",
       " 'other': 42667589,\n",
       " 'poi': False,\n",
       " 'restricted_stock': 130322299,\n",
       " 'restricted_stock_deferred': -7576788,\n",
       " 'salary': 26704229,\n",
       " 'shared_receipt_with_poi': 'NaN',\n",
       " 'to_messages': 'NaN',\n",
       " 'total_payments': 309886585,\n",
       " 'total_stock_value': 434509511}"
      ]
     },
     "execution_count": 33,
     "metadata": {},
     "output_type": "execute_result"
    }
   ],
   "source": [
    "### load in the dict of dicts containing all the data on each person in the dataset\n",
    "data_dict = pickle.load( open(\"../final_project/final_project_dataset.pkl\", \"r\") )\n",
    "### there's an outlier--remove it! \n",
    "data_dict.pop(\"TOTAL\", 0)"
   ]
  },
  {
   "cell_type": "code",
   "execution_count": 43,
   "metadata": {
    "collapsed": true
   },
   "outputs": [],
   "source": [
    "### the input features we want to use \n",
    "### can be any key in the person-level dictionary (salary, director_fees, etc.) \n",
    "\n",
    "from sklearn import preprocessing\n",
    "\n",
    "\n",
    "feature_1 = \"salary\"\n",
    "feature_2 = \"exercised_stock_options\"\n",
    "feature_3 = \"total_payments\"\n",
    "poi  = \"poi\"\n",
    "features_list = [poi, feature_1, feature_2, feature_3]\n",
    "data = featureFormat(data_dict, features_list )\n",
    "poi, finance_features = targetFeatureSplit( data )\n",
    "\n",
    "min_max_scaler = preprocessing.MinMaxScaler()\n",
    "finance_features = min_max_scaler.fit_transform(finance_features)"
   ]
  },
  {
   "cell_type": "code",
   "execution_count": 44,
   "metadata": {
    "collapsed": true
   },
   "outputs": [],
   "source": [
    "### in the \"clustering with 3 features\" part of the mini-project,\n",
    "### you'll want to change this line to \n",
    "### for f1, f2, _ in finance_features:\n",
    "### (as it's currently written, the line below assumes 2 features)\n",
    "for f1, f2, _ in finance_features:\n",
    "    plt.scatter( f1, f2 )\n",
    "plt.show()"
   ]
  },
  {
   "cell_type": "code",
   "execution_count": 45,
   "metadata": {
    "collapsed": false
   },
   "outputs": [],
   "source": [
    "### cluster here; create predictions of the cluster labels\n",
    "### for the data and store them to a list called pred\n",
    "\n",
    "from sklearn import cluster\n",
    "\n",
    "k_means = cluster.KMeans(n_clusters=2)\n",
    "pred = k_means.fit_predict(finance_features)"
   ]
  },
  {
   "cell_type": "code",
   "execution_count": 46,
   "metadata": {
    "collapsed": false
   },
   "outputs": [],
   "source": [
    "### rename the \"name\" parameter when you change the number of features\n",
    "### so that the figure gets saved to a different file\n",
    "try:\n",
    "    Draw(pred, finance_features, poi, mark_poi=False, name=\"clusters.pdf\", f1_name=feature_1, f2_name=feature_2)\n",
    "except NameError:\n",
    "    print \"no predictions object named pred found, no clusters to plot\""
   ]
  },
  {
   "cell_type": "code",
   "execution_count": 47,
   "metadata": {
    "collapsed": false
   },
   "outputs": [
    {
     "data": {
      "text/plain": [
       "[array([ 0.       ,  0.0189776,  0.       ]),\n",
       " array([ 0.        ,  0.01436717,  0.01784696]),\n",
       " array([ 0.        ,  0.15169765,  0.03024205]),\n",
       " array([ 0.        ,  0.06458164,  0.00933299]),\n",
       " array([ 0.        ,  0.01083617,  0.        ]),\n",
       " array([ 0.        ,  0.02999643,  0.00084405]),\n",
       " array([  0.00000000e+00,   9.56376871e-05,   9.89766366e-04]),\n",
       " array([ 0.        ,  0.        ,  0.00183066]),\n",
       " array([ 0.        ,  0.        ,  0.00220796]),\n",
       " array([ 0.        ,  0.00287402,  0.        ]),\n",
       " array([  0.00000000e+00,   0.00000000e+00,   4.58672218e-06]),\n",
       " array([  0.00000000e+00,   0.00000000e+00,   1.42912607e-06]),\n",
       " array([ 0.        ,  0.02476032,  0.        ]),\n",
       " array([  0.00000000e+00,   0.00000000e+00,   7.68734638e-05]),\n",
       " array([ 0.        ,  0.01934225,  0.        ]),\n",
       " array([ 0.        ,  0.        ,  0.00205747]),\n",
       " array([ 0.        ,  0.01082293,  0.00074828]),\n",
       " array([ 0.        ,  0.0120203 ,  0.00084485]),\n",
       " array([ 0.        ,  0.00405055,  0.        ]),\n",
       " array([  0.00000000e+00,   0.00000000e+00,   2.07706093e-05]),\n",
       " array([ 0.        ,  0.02204765,  0.        ]),\n",
       " array([ 0.        ,  0.02211333,  0.        ]),\n",
       " array([ 0.        ,  0.05105818,  0.        ]),\n",
       " array([ 0.       ,  0.0002854,  0.       ]),\n",
       " array([ 0.        ,  0.00173339,  0.        ]),\n",
       " array([ 0.        ,  0.00999855,  0.00175507]),\n",
       " array([ 0.        ,  0.        ,  0.00026982]),\n",
       " array([  0.00000000e+00,   0.00000000e+00,   1.23503530e-05]),\n",
       " array([ 0.        ,  0.04152944,  0.        ]),\n",
       " array([ 0.        ,  0.02580124,  0.00544949]),\n",
       " array([ 0.        ,  0.        ,  0.00349649]),\n",
       " array([ 0.        ,  0.        ,  0.00747782]),\n",
       " array([ 0.        ,  0.03856304,  0.        ]),\n",
       " array([ 0.        ,  0.14926918,  0.        ]),\n",
       " array([ 0.        ,  0.01256973,  0.00080871]),\n",
       " array([ 0.       ,  0.       ,  0.0008207]),\n",
       " array([ 0.        ,  0.        ,  0.00047594]),\n",
       " array([ 0.        ,  0.00750594,  0.00176194]),\n",
       " array([ 0.        ,  0.02197967,  0.        ]),\n",
       " array([ 0.        ,  0.07582569,  0.14924991]),\n",
       " array([ 0.        ,  0.00561185,  0.00053203]),\n",
       " array([  0.00000000e+00,   8.95706302e-01,   8.79617440e-04]),\n",
       " array([ 0.        ,  0.00513497,  0.00048852]),\n",
       " array([  0.00000000e+00,   0.00000000e+00,   3.62109646e-05]),\n",
       " array([ 0.        ,  0.        ,  0.00115191]),\n",
       " array([ 0.00042924,  0.11779759,  0.00884703]),\n",
       " array([ 0.00595271,  0.        ,  0.01107242]),\n",
       " array([ 0.05736202,  0.        ,  0.00735937]),\n",
       " array([ 0.06875001,  0.12113152,  0.00380915]),\n",
       " array([ 0.07272659,  0.04657107,  0.00830569]),\n",
       " array([ 0.07673646,  0.06303563,  0.01911549]),\n",
       " array([ 0.08543561,  0.15332826,  0.00241201]),\n",
       " array([ 0.08714448,  0.21861404,  0.00107695]),\n",
       " array([ 0.11763605,  0.06645925,  0.02993656]),\n",
       " array([ 0.14254386,  0.24189062,  0.00347915]),\n",
       " array([ 0.14648174,  0.03966344,  0.00965004]),\n",
       " array([ 0.15382656,  0.14237479,  0.00204447]),\n",
       " array([ 0.15680067,  0.        ,  0.00680666]),\n",
       " array([ 0.16399882,  0.01750994,  0.02599777]),\n",
       " array([ 0.1663871 ,  0.        ,  0.00780183]),\n",
       " array([ 0.16910744,  0.        ,  0.00597577]),\n",
       " array([ 0.17278436,  0.00242332,  0.00869628]),\n",
       " array([ 0.17735845,  0.02562828,  0.01677899]),\n",
       " array([ 0.17921761,  0.01934475,  0.01366222]),\n",
       " array([ 0.18173547,  0.05035291,  0.04330293]),\n",
       " array([ 0.18548438,  0.00050593,  0.01167103]),\n",
       " array([ 0.18942496,  0.05903815,  0.01163176]),\n",
       " array([ 0.18959774,  0.04226892,  0.02021309]),\n",
       " array([ 0.190584  ,  0.        ,  0.02010236]),\n",
       " array([ 0.1906344 ,  0.04729177,  0.01935003]),\n",
       " array([ 0.19223709,  0.04267258,  0.01977208]),\n",
       " array([ 0.19257364,  0.02774908,  0.05312515]),\n",
       " array([ 0.19489803,  0.04729177,  0.0022062 ]),\n",
       " array([ 0.19887641,  0.        ,  0.00308943]),\n",
       " array([ 0.19985728,  0.12962694,  0.00880122]),\n",
       " array([ 0.20184782,  0.        ,  0.0256143 ]),\n",
       " array([ 0.20632832,  0.0116593 ,  0.00784275]),\n",
       " array([ 0.20816948,  0.        ,  0.00935757]),\n",
       " array([ 0.20872381,  0.01852332,  0.01512623]),\n",
       " array([ 0.21278317,  0.0742207 ,  0.00845781]),\n",
       " array([ 0.21552331,  0.        ,  0.0107386 ]),\n",
       " array([ 0.21567539,  0.        ,  0.00799245]),\n",
       " array([ 0.21614153,  0.        ,  0.01582947]),\n",
       " array([ 0.21893476,  0.16123032,  0.00278759]),\n",
       " array([ 0.22257478,  0.01721333,  0.00385664]),\n",
       " array([ 0.22318579,  0.02403211,  0.01018385]),\n",
       " array([ 0.22330188,  0.00818301,  0.0152232 ]),\n",
       " array([ 0.22366183,  0.0222809 ,  0.01945577]),\n",
       " array([ 0.22425125,  0.04760742,  0.01061319]),\n",
       " array([ 0.22506025,  0.0451264 ,  0.0136198 ]),\n",
       " array([ 0.22645866,  0.03075312,  0.03092001]),\n",
       " array([ 0.23170677,  0.        ,  0.01491949]),\n",
       " array([ 0.23396547,  0.04856881,  0.00998838]),\n",
       " array([ 0.23533329,  0.        ,  0.01227872]),\n",
       " array([ 0.23559695,  0.        ,  0.00461141]),\n",
       " array([ 0.23565995,  0.44730393,  0.03016019]),\n",
       " array([ 0.23636545,  0.00545877,  0.01252862]),\n",
       " array([ 0.23647794,  0.23849026,  0.02286748]),\n",
       " array([ 0.23704036,  0.01475368,  0.01273431]),\n",
       " array([ 0.23866105,  0.09261717,  0.01055103]),\n",
       " array([ 0.24035193,  0.        ,  0.00606917]),\n",
       " array([ 0.24036002,  0.19449369,  0.05440667]),\n",
       " array([ 0.24213639,  0.01769623,  0.01021196]),\n",
       " array([ 0.24426551,  0.00235941,  0.03351823]),\n",
       " array([ 0.24555954,  0.01270846,  0.02073172]),\n",
       " array([ 0.24633883,  0.        ,  0.02572647]),\n",
       " array([ 0.24744479,  0.01120076,  0.0122855 ]),\n",
       " array([ 0.24755817,  0.02474672,  0.01049462]),\n",
       " array([ 0.25070776,  0.        ,  0.02577824]),\n",
       " array([ 0.25070776,  0.02229857,  0.00845656]),\n",
       " array([ 0.25965347,  0.        ,  0.01439115]),\n",
       " array([ 0.25966787,  0.00538782,  0.00532228]),\n",
       " array([ 0.25969577,  0.        ,  0.01091602]),\n",
       " array([ 0.27366282,  0.04197863,  0.02934249]),\n",
       " array([ 0.27409296,  0.02737413,  0.03549968]),\n",
       " array([ 0.27891453,  0.01955658,  0.01532855]),\n",
       " array([ 0.28282181,  0.00342232,  0.01063533]),\n",
       " array([ 0.28575092,  0.03776157,  0.01867867]),\n",
       " array([ 0.29613105,  0.04765971,  0.01276129]),\n",
       " array([ 0.29745208,  0.07403006,  0.02274726]),\n",
       " array([ 0.30531884,  0.1210827 ,  0.10067379]),\n",
       " array([ 0.31449672,  0.06027375,  0.08118031]),\n",
       " array([ 0.32133942,  0.1265429 ,  0.01736948]),\n",
       " array([ 0.32849077,  0.04725142,  0.02029131]),\n",
       " array([ 0.32860326,  0.06670221,  0.04584771]),\n",
       " array([ 0.32916568,  0.        ,  0.01025327]),\n",
       " array([ 0.33335913,  0.03214282,  0.03958844]),\n",
       " array([ 0.33666799,  0.01772281,  0.03726412]),\n",
       " array([ 0.3638561 ,  0.0588688 ,  0.01687452]),\n",
       " array([ 0.37362071,  0.        ,  0.01804521]),\n",
       " array([ 0.37852236,  0.57627675,  0.00487689]),\n",
       " array([ 0.38585099,  0.05343943,  0.04186362]),\n",
       " array([ 0.39657577,  0.        ,  0.02340757]),\n",
       " array([ 0.44307892,  0.25712747,  0.00532041]),\n",
       " array([ 0.45926688,  0.0955783 ,  0.04516786]),\n",
       " array([ 0.58945537,  0.00083841,  0.01339024]),\n",
       " array([ 0.95471259,  0.30375572,  0.16659487]),\n",
       " array([ 0.96496133,  1.        ,  1.        ]),\n",
       " array([ 1.        ,  0.56043393,  0.08384254])]"
      ]
     },
     "execution_count": 47,
     "metadata": {},
     "output_type": "execute_result"
    }
   ],
   "source": [
    "from operator import itemgetter\n",
    "sorted(finance_features, key=itemgetter(0))"
   ]
  },
  {
   "cell_type": "code",
   "execution_count": 50,
   "metadata": {
    "collapsed": false
   },
   "outputs": [
    {
     "name": "stderr",
     "output_type": "stream",
     "text": [
      "/Users/ejm/anaconda2/lib/python2.7/site-packages/sklearn/preprocessing/data.py:359: DeprecationWarning: Passing 1d arrays as data is deprecated in 0.17 and will raise ValueError in 0.19. Reshape your data either using X.reshape(-1, 1) if your data has a single feature or X.reshape(1, -1) if it contains a single sample.\n",
      "  warnings.warn(DEPRECATION_MSG_1D, DeprecationWarning)\n"
     ]
    },
    {
     "data": {
      "text/plain": [
       "array([ 0.17997621,  0.02911345,  0.        ])"
      ]
     },
     "execution_count": 50,
     "metadata": {},
     "output_type": "execute_result"
    }
   ],
   "source": [
    "min_max_scaler.transform([200000, 1000000, 0])"
   ]
  },
  {
   "cell_type": "code",
   "execution_count": null,
   "metadata": {
    "collapsed": false
   },
   "outputs": [],
   "source": []
  },
  {
   "cell_type": "code",
   "execution_count": null,
   "metadata": {
    "collapsed": true
   },
   "outputs": [],
   "source": []
  }
 ],
 "metadata": {
  "kernelspec": {
   "display_name": "Python 2",
   "language": "python",
   "name": "python2"
  },
  "language_info": {
   "codemirror_mode": {
    "name": "ipython",
    "version": 2
   },
   "file_extension": ".py",
   "mimetype": "text/x-python",
   "name": "python",
   "nbconvert_exporter": "python",
   "pygments_lexer": "ipython2",
   "version": "2.7.11"
  }
 },
 "nbformat": 4,
 "nbformat_minor": 0
}
